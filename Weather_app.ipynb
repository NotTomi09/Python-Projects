{
  "nbformat": 4,
  "nbformat_minor": 0,
  "metadata": {
    "colab": {
      "provenance": []
    },
    "kernelspec": {
      "name": "python3",
      "display_name": "Python 3"
    },
    "language_info": {
      "name": "python"
    }
  },
  "cells": [
    {
      "cell_type": "code",
      "execution_count": null,
      "metadata": {
        "id": "DicJJaSlpaVM"
      },
      "outputs": [],
      "source": [
        "import requests\n",
        "from datetime import datetime, timedelta\n",
        "\n",
        "API_KEY = \"2542d956f6e038a8002c860d69e0f47f\"\n",
        "BASE_URL = \"https://api.openweathermap.org/data/2.5/weather\"\n",
        "\n",
        "def fetch_weather(city_name):\n",
        "    params = {\n",
        "        'q': city_name,\n",
        "        'appid': API_KEY,\n",
        "        'units': 'metric'  # Temperature in Celsius\n",
        "    }\n",
        "    try:\n",
        "        response = requests.get(BASE_URL, params=params)\n",
        "        response.raise_for_status()  # Raise an error for bad responses\n",
        "        data = response.json()\n",
        "\n",
        "        if data.get(\"cod\") != 200:\n",
        "            print(f\"City '{city_name}' not found.\")\n",
        "            return None\n",
        "\n",
        "        # Extract required data\n",
        "        city = data[\"name\"]\n",
        "        temperature = data[\"main\"][\"temp\"]\n",
        "        weather_description = data[\"weather\"][0][\"description\"]\n",
        "        humidity = data[\"main\"][\"humidity\"]\n",
        "          # Calculate local time\n",
        "        timezone_offset = data[\"timezone\"]  # Offset in seconds\n",
        "        utc_time = datetime.utcnow()\n",
        "        local_time = utc_time + timedelta(seconds=timezone_offset)\n",
        "        formatted_time = local_time.strftime(\"%Y-%m-%d %H:%M:%S\")\n",
        "\n",
        "        return {\n",
        "            \"City\": city,\n",
        "            \"Temperature (°C)\": temperature,\n",
        "            \"Weather Description\": weather_description,\n",
        "            \"Humidity (%)\": humidity,\n",
        "            \"Date\": formatted_time\n",
        "        }\n",
        "    except requests.exceptions.RequestException as e:\n",
        "        print(f\"Error fetching weather data: {e}\")\n",
        "        return None\n",
        "\n",
        "def main():\n",
        "    print(\"Welcome to the Weather App!\")\n",
        "    while True:\n",
        "        city_name = input(\"Enter city name (or 'exit' to quit): \").strip()\n",
        "        if city_name.lower() == \"exit\":\n",
        "            print(\"Goodbye!\")\n",
        "            break\n",
        "\n",
        "        weather = fetch_weather(city_name)\n",
        "        if weather:\n",
        "            print(\"\\nWeather Details:\")\n",
        "            for key, value in weather.items():\n",
        "                print(f\"{key}: {value}\")\n",
        "            print()\n",
        "\n",
        "if __name__ == \"__main__\":\n",
        "    main()\n"
      ]
    }
  ]
}