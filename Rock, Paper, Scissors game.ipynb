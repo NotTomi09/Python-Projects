{
  "nbformat": 4,
  "nbformat_minor": 0,
  "metadata": {
    "colab": {
      "provenance": []
    },
    "kernelspec": {
      "name": "python3",
      "display_name": "Python 3"
    },
    "language_info": {
      "name": "python"
    }
  },
  "cells": [
    {
      "cell_type": "code",
      "execution_count": null,
      "metadata": {
        "id": "XGHStzvZo0Bi"
      },
      "outputs": [],
      "source": [
        "import random\n",
        "\n",
        "# Function to get computer's choice\n",
        "def get_computer_choice():\n",
        "    return random.choice([\"rock\", \"paper\", \"scissors\"])\n",
        "\n",
        "# Function to determine the winner\n",
        "def determine_winner(user_choice, computer_choice):\n",
        "    global games_won\n",
        "    if user_choice == computer_choice:\n",
        "        return \"It's a tie!\"\n",
        "\n",
        "    if (user_choice == \"rock\" and computer_choice == \"scissors\") or \\\n",
        "       (user_choice == \"scissors\" and computer_choice == \"paper\") or \\\n",
        "       (user_choice == \"paper\" and computer_choice == \"rock\"):\n",
        "        games_won += 1\n",
        "        return \"You win!\"\n",
        "    else:\n",
        "        return \"Computer wins!\"\n",
        "\n",
        "# Function to play a single game\n",
        "def play_game():\n",
        "    global games_played\n",
        "    games_played += 1\n",
        "\n",
        "    user_choice = input(\"Enter your choice (rock, paper, scissors): \").lower()\n",
        "    computer_choice = get_computer_choice()\n",
        "\n",
        "    print(f\"Computer chose: {computer_choice}\")\n",
        "    result = determine_winner(user_choice, computer_choice)\n",
        "    print(result)\n",
        "\n",
        "# Function to display the score\n",
        "def display_score():\n",
        "    print(f\"Games played: {games_played}\")\n",
        "    print(f\"Games won by you: {games_won}\")\n",
        "\n",
        "# Main game loop\n",
        "def main():\n",
        "    global games_played, games_won\n",
        "    games_played = 0\n",
        "    games_won = 0\n",
        "\n",
        "    while True:\n",
        "        play_game()\n",
        "        display_score()\n",
        "\n",
        "        play_again = input(\"Do you want to play again? (yes/no): \").lower()\n",
        "        if play_again != 'yes':\n",
        "            print(\"Thanks for playing!\")\n",
        "            break\n",
        "\n",
        "# Run the game\n",
        "main()"
      ]
    }
  ]
}